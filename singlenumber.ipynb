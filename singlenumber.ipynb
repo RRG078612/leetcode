{
 "cells": [
  {
   "cell_type": "code",
   "execution_count": 1,
   "metadata": {},
   "outputs": [
    {
     "name": "stdout",
     "output_type": "stream",
     "text": [
      "hi\n"
     ]
    }
   ],
   "source": [
    "print('hi')"
   ]
  },
  {
   "cell_type": "code",
   "execution_count": 3,
   "metadata": {},
   "outputs": [
    {
     "data": {
      "text/plain": [
       "5"
      ]
     },
     "execution_count": 3,
     "metadata": {},
     "output_type": "execute_result"
    }
   ],
   "source": [
    "nums = [1,2,1,2,5]\n",
    "s1 =sol()\n",
    "s1.singleNumber1(nums)"
   ]
  },
  {
   "cell_type": "code",
   "execution_count": 1,
   "metadata": {},
   "outputs": [],
   "source": [
    "class sol:\n",
    "    def singleNumber1(self,nums):\n",
    "        for  i in range(len(nums)):\n",
    "            count=0\n",
    "            for j in range(len(nums)):\n",
    "                if(nums[i]==nums[j]):\n",
    "                    count+=1\n",
    "            if count == 1:\n",
    "                return nums[i]\n",
    "                \n",
    "            "
   ]
  },
  {
   "cell_type": "code",
   "execution_count": 40,
   "metadata": {},
   "outputs": [
    {
     "name": "stdout",
     "output_type": "stream",
     "text": [
      "Element occurring once is 2\n"
     ]
    }
   ],
   "source": [
    "# Python code to find the array element that appears only once \n",
    "\n",
    "# Function to find the array \n",
    "# element that appears only once \n",
    "def findSingle(A, ar_size): \n",
    "\t\n",
    "\t# iterate over every element \n",
    "\tfor i in range(ar_size): \n",
    "\t\t\n",
    "\t\t# Initialize count to 0 \n",
    "\t\tcount = 0\n",
    "\t\tfor j in range(ar_size): \n",
    "\t\t\t\n",
    "\t\t\t# Count the frequency \n",
    "\t\t\t# of the element \n",
    "\t\t\tif(A[i] == A[j]): \n",
    "\t\t\t\tcount += 1\n",
    "\n",
    "\t\t# If the frequency of \n",
    "\t\t# the element is one \n",
    "\t\tif(count == 1): \n",
    "\t\t\treturn A[i] \n",
    "\t\t\t\n",
    "\t# If no element exist \n",
    "\t# at most once \n",
    "\treturn -1\n",
    "\n",
    "ar = [2, 3, 5, 4, 5, 3, 4] \n",
    "n = len(ar) \n",
    "# Function call \n",
    "print(\"Element occurring once is\", findSingle(ar, n)) \n",
    "\n",
    "# This code is contributed by lokesh \n"
   ]
  },
  {
   "cell_type": "code",
   "execution_count": 39,
   "metadata": {},
   "outputs": [
    {
     "ename": "TypeError",
     "evalue": "'list' object cannot be interpreted as an integer",
     "output_type": "error",
     "traceback": [
      "\u001b[1;31m---------------------------------------------------------------------------\u001b[0m",
      "\u001b[1;31mTypeError\u001b[0m                                 Traceback (most recent call last)",
      "Cell \u001b[1;32mIn [39], line 2\u001b[0m\n\u001b[0;32m      1\u001b[0m s1 \u001b[38;5;241m=\u001b[39msol()\n\u001b[1;32m----> 2\u001b[0m \u001b[43ms1\u001b[49m\u001b[38;5;241;43m.\u001b[39;49m\u001b[43msingleNumber1\u001b[49m\u001b[43m(\u001b[49m\u001b[43mnums\u001b[49m\u001b[43m)\u001b[49m\n",
      "Cell \u001b[1;32mIn [38], line 3\u001b[0m, in \u001b[0;36msol.singleNumber1\u001b[1;34m(self, nums)\u001b[0m\n\u001b[0;32m      2\u001b[0m \u001b[38;5;28;01mdef\u001b[39;00m \u001b[38;5;21msingleNumber1\u001b[39m(\u001b[38;5;28mself\u001b[39m,nums):\n\u001b[1;32m----> 3\u001b[0m     \u001b[38;5;28;01mfor\u001b[39;00m  i \u001b[38;5;129;01min\u001b[39;00m \u001b[38;5;28;43mrange\u001b[39;49m\u001b[43m(\u001b[49m\u001b[43mnums\u001b[49m\u001b[43m)\u001b[49m:\n\u001b[0;32m      4\u001b[0m         count\u001b[38;5;241m=\u001b[39m\u001b[38;5;241m0\u001b[39m\n\u001b[0;32m      5\u001b[0m         \u001b[38;5;28;01mfor\u001b[39;00m j \u001b[38;5;129;01min\u001b[39;00m \u001b[38;5;28mrange\u001b[39m(nums):\n",
      "\u001b[1;31mTypeError\u001b[0m: 'list' object cannot be interpreted as an integer"
     ]
    }
   ],
   "source": [
    "s1 =sol()\n",
    "s1.singleNumber1(nums)"
   ]
  },
  {
   "cell_type": "code",
   "execution_count": 22,
   "metadata": {},
   "outputs": [],
   "source": [
    "#  using xor function approach\n",
    "\n",
    "def singleNumber(a:list[int]):\n",
    " result=0\n",
    " for num in a:\n",
    "    result =result^num #0^1 =1  1^2 = 3 3^1 = 2^^\n",
    " return result\n"
   ]
  },
  {
   "cell_type": "code",
   "execution_count": 23,
   "metadata": {},
   "outputs": [
    {
     "name": "stdout",
     "output_type": "stream",
     "text": [
      "3\n"
     ]
    }
   ],
   "source": [
    "input_list = [1, 2, 3, 2, 1]\n",
    "output = singleNumber(input_list)\n",
    "print(output) \n"
   ]
  },
  {
   "cell_type": "code",
   "execution_count": 12,
   "metadata": {},
   "outputs": [
    {
     "data": {
      "text/plain": [
       "2"
      ]
     },
     "execution_count": 12,
     "metadata": {},
     "output_type": "execute_result"
    }
   ],
   "source": [
    "# using hashmap\n",
    "\n"
   ]
  },
  {
   "cell_type": "code",
   "execution_count": 13,
   "metadata": {},
   "outputs": [
    {
     "data": {
      "text/plain": [
       "0"
      ]
     },
     "execution_count": 13,
     "metadata": {},
     "output_type": "execute_result"
    }
   ],
   "source": [
    "\n",
    "for num in range(len(a)): #1\n",
    "    for num2 in range(1,len(a)):  #1,2\n",
    "        if a[num] == a[num2]:\n",
    "         break\n",
    "    else:\n",
    "     print(num)"
   ]
  },
  {
   "cell_type": "code",
   "execution_count": null,
   "metadata": {},
   "outputs": [],
   "source": []
  }
 ],
 "metadata": {
  "kernelspec": {
   "display_name": "Python 3",
   "language": "python",
   "name": "python3"
  },
  "language_info": {
   "codemirror_mode": {
    "name": "ipython",
    "version": 3
   },
   "file_extension": ".py",
   "mimetype": "text/x-python",
   "name": "python",
   "nbconvert_exporter": "python",
   "pygments_lexer": "ipython3",
   "version": "3.10.11"
  }
 },
 "nbformat": 4,
 "nbformat_minor": 2
}
