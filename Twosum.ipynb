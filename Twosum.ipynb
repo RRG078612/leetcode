{
 "cells": [
  {
   "cell_type": "code",
   "execution_count": 1,
   "metadata": {},
   "outputs": [
    {
     "name": "stdout",
     "output_type": "stream",
     "text": [
      "Hi\n"
     ]
    }
   ],
   "source": [
    "print('Hi')"
   ]
  },
  {
   "cell_type": "markdown",
   "metadata": {},
   "source": [
    "### Brute Force approach\n",
    "Time Complexity : O(n2)\n",
    "Space complexity :O(n)"
   ]
  },
  {
   "cell_type": "code",
   "execution_count": 12,
   "metadata": {},
   "outputs": [],
   "source": [
    "a = [1,2,3,4,5]\n",
    "target =9\n",
    "def twosum(a):\n",
    " for i in range(0,len(a)-1): # i want to go from 1 -4 only..cuz we need two number sum\n",
    "    for j in range(1,len(a)):\n",
    "        if a[i]+a[j] ==target:\n",
    "            return i,j\n",
    "   \n"
   ]
  },
  {
   "cell_type": "code",
   "execution_count": 13,
   "metadata": {},
   "outputs": [
    {
     "data": {
      "text/plain": [
       "(3, 4)"
      ]
     },
     "execution_count": 13,
     "metadata": {},
     "output_type": "execute_result"
    }
   ],
   "source": [
    "twosum(a)"
   ]
  },
  {
   "cell_type": "markdown",
   "metadata": {},
   "source": [
    "### Sorting method does best to find the elements at the extreme ends\n",
    "if"
   ]
  },
  {
   "cell_type": "code",
   "execution_count": 30,
   "metadata": {},
   "outputs": [],
   "source": [
    "nums = [3 ,0, 5, 2 ,3, 10]"
   ]
  },
  {
   "cell_type": "code",
   "execution_count": 31,
   "metadata": {},
   "outputs": [
    {
     "name": "stdout",
     "output_type": "stream",
     "text": [
      "[0, 2, 3, 3, 5, 10] [3, 0, 5, 2, 3, 10]\n"
     ]
    },
    {
     "data": {
      "text/plain": [
       "3"
      ]
     },
     "execution_count": 31,
     "metadata": {},
     "output_type": "execute_result"
    }
   ],
   "source": [
    "nums_new1 = nums.copy()\n",
    "nums_new1.sort()\n",
    "print(nums_new1,nums)\n",
    "nums.index(2)"
   ]
  },
  {
   "cell_type": "markdown",
   "metadata": {},
   "source": [
    "### Solution optimized "
   ]
  },
  {
   "cell_type": "code",
   "execution_count": 32,
   "metadata": {},
   "outputs": [],
   "source": [
    "class sols:\n",
    "    def twosum1 (self , nums ,target):\n",
    "        nums_new = nums.copy()\n",
    "        nums_new.sort()\n",
    "        i =0\n",
    "        j =len(nums)-1\n",
    "        while(i<j):\n",
    "            if ((nums_new[i] + nums_new[j]) == target):\n",
    "                return (nums.index(nums_new[i]),nums.index(nums_new[j]))\n",
    "            elif ((nums_new[i] + nums_new[j]) < target):\n",
    "                i=i+1\n",
    "            else :\n",
    "                j =j-1\n"
   ]
  },
  {
   "cell_type": "code",
   "execution_count": 33,
   "metadata": {},
   "outputs": [
    {
     "data": {
      "text/plain": [
       "(0, 5)"
      ]
     },
     "execution_count": 33,
     "metadata": {},
     "output_type": "execute_result"
    }
   ],
   "source": [
    "\n",
    "s1 =sols()\n",
    "s1.twosum1(nums=nums,target=13)"
   ]
  },
  {
   "cell_type": "code",
   "execution_count": null,
   "metadata": {},
   "outputs": [],
   "source": [
    "# # while(i<j):\n",
    "# #     if (nums_new[i] + nums_new [j]) == target:\n",
    "# #         print(nums.index(nums_new[i]),nums.index(nums_new[j]))\n",
    "# def twosum1 (self , nums ,target):\n",
    "#     nums_new = nums.copy()\n",
    "#     nums_new.sort()\n",
    "#     i =0\n",
    "#     j =len(nums)-1\n",
    "#     while(i<j):\n",
    "#     #  if (nums_new[i] + nums_new [j]) == target:\n",
    "#         return (nums.index(nums_new[i]),nums.index(nums_new[j]))\n",
    "# twosum1(self,nums=nums,target=13)\n"
   ]
  }
 ],
 "metadata": {
  "kernelspec": {
   "display_name": "Python 3",
   "language": "python",
   "name": "python3"
  },
  "language_info": {
   "codemirror_mode": {
    "name": "ipython",
    "version": 3
   },
   "file_extension": ".py",
   "mimetype": "text/x-python",
   "name": "python",
   "nbconvert_exporter": "python",
   "pygments_lexer": "ipython3",
   "version": "3.10.11"
  }
 },
 "nbformat": 4,
 "nbformat_minor": 2
}
